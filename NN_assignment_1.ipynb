{
  "nbformat": 4,
  "nbformat_minor": 0,
  "metadata": {
    "colab": {
      "provenance": [],
      "authorship_tag": "ABX9TyMC4PE61D5ChmCgQGrD+fll",
      "include_colab_link": true
    },
    "kernelspec": {
      "name": "python3",
      "display_name": "Python 3"
    },
    "language_info": {
      "name": "python"
    }
  },
  "cells": [
    {
      "cell_type": "markdown",
      "metadata": {
        "id": "view-in-github",
        "colab_type": "text"
      },
      "source": [
        "<a href=\"https://colab.research.google.com/github/DangerDR0519/NeuralNetworks/blob/main/NN_assignment_1.ipynb\" target=\"_parent\"><img src=\"https://colab.research.google.com/assets/colab-badge.svg\" alt=\"Open In Colab\"/></a>"
      ]
    },
    {
      "cell_type": "code",
      "execution_count": null,
      "metadata": {
        "colab": {
          "base_uri": "https://localhost:8080/"
        },
        "id": "M5XR-PyTAHU0",
        "outputId": "de668c8f-d7f7-42da-a485-533a09b7178b"
      },
      "outputs": [
        {
          "output_type": "stream",
          "name": "stdout",
          "text": [
            "Enter your first name: good\n",
            "Enter your last name: evening\n",
            "Full name: good evening\n",
            "Every other character from full name: go vnn\n"
          ]
        }
      ],
      "source": [
        "def fullname(first_name, last_name):\n",
        "    \"\"\"\n",
        "    This function takes a first name and a last name and returns the full name.\n",
        "    \"\"\"\n",
        "    return f\"{first_name} {last_name}\"\n",
        "\n",
        "def string_alternative(full_name):\n",
        "    \"\"\"\n",
        "    This function returns every other character from the full name string.\n",
        "    \"\"\"\n",
        "    return full_name[::2]\n",
        "\n",
        "def main():\n",
        "    # Take user input for first name and last name\n",
        "    first_name = input(\"Enter your first name: \")\n",
        "    last_name = input(\"Enter your last name: \")\n",
        "\n",
        "    # Generate full name\n",
        "    full_name = fullname(first_name, last_name)\n",
        "\n",
        "    # Generate every other character from the full name\n",
        "    alternative_string = string_alternative(full_name)\n",
        "\n",
        "    # Print the results\n",
        "    print(\"Full name:\", full_name)\n",
        "    print(\"Every other character from full name:\", alternative_string)\n",
        "\n",
        "if __name__ == \"__main__\":\n",
        "    main()\n"
      ]
    },
    {
      "cell_type": "code",
      "source": [
        "from collections import Counter\n",
        "import re\n",
        "\n",
        "def count_words_in_file(input_filename):\n",
        "    \"\"\"\n",
        "    This function reads the input file, counts word occurrences, and returns a Counter object.\n",
        "    \"\"\"\n",
        "    word_counter = Counter()\n",
        "\n",
        "    # Read the input file\n",
        "    with open(input_filename, 'r') as file:\n",
        "        for line in file:\n",
        "            # Use regular expression to find words\n",
        "            words = re.findall(r'\\b\\w+\\b', line.lower())  # Convert to lowercase for case-insensitive counting\n",
        "            word_counter.update(words)\n",
        "\n",
        "    return word_counter\n",
        "\n",
        "def write_output_to_file(output_filename, lines, word_counter):\n",
        "    \"\"\"\n",
        "    This function writes the output to the specified file.\n",
        "    \"\"\"\n",
        "    with open(output_filename, 'w') as file:\n",
        "        # Write original lines from input file\n",
        "        file.write(\"Input:\\n\")\n",
        "        for line in lines:\n",
        "            file.write(line)\n",
        "\n",
        "        file.write(\"\\nWord_Count:\\n\")\n",
        "        for word, count in word_counter.items():\n",
        "            file.write(f\"{word.capitalize()}: {count}\\n\")\n",
        "\n",
        "def main():\n",
        "    input_filename = 'input.txt'\n",
        "    output_filename = 'output.txt'\n",
        "\n",
        "    # Read lines from input file\n",
        "    with open(input_filename, 'r') as file:\n",
        "        lines = file.readlines()\n",
        "\n",
        "    # Count words in file\n",
        "    word_counter = count_words_in_file(input_filename)\n",
        "\n",
        "    # Write the results to the output file\n",
        "    write_output_to_file(output_filename, lines, word_counter)\n",
        "\n",
        "    # Print results to console\n",
        "    print(\"Input:\")\n",
        "    for line in lines:\n",
        "        print(line.strip())\n",
        "\n",
        "    print(\"\\nWord_Count:\")\n",
        "    for word, count in word_counter.items():\n",
        "        print(f\"{word.capitalize()}: {count}\")\n",
        "\n",
        "if __name__ == \"__main__\":\n",
        "    main()\n"
      ],
      "metadata": {
        "colab": {
          "base_uri": "https://localhost:8080/"
        },
        "id": "ywUEYEudEUt8",
        "outputId": "193e4713-bba3-40ec-f83c-497421a8c89a"
      },
      "execution_count": null,
      "outputs": [
        {
          "output_type": "stream",
          "name": "stdout",
          "text": [
            "Input:\n",
            "Python Course\n",
            "Deep Learning Course\n",
            "\n",
            "Word_Count:\n",
            "Python: 1\n",
            "Course: 2\n",
            "Deep: 1\n",
            "Learning: 1\n"
          ]
        }
      ]
    },
    {
      "cell_type": "code",
      "source": [
        "def convert_inches_to_cm(inches):\n",
        "    \"\"\"\n",
        "    Convert inches to centimeters.\n",
        "    \"\"\"\n",
        "    return inches * 2.54\n",
        "\n",
        "def main_interactive_loop():\n",
        "    # Read heights into a list\n",
        "    heights_in_inches = []\n",
        "    while True:\n",
        "        try:\n",
        "            height = input(\"Enter height in inches (or 'done' to finish): \")\n",
        "            if height.lower() == 'done':\n",
        "                break\n",
        "            height = float(height)\n",
        "            heights_in_inches.append(height)\n",
        "        except ValueError:\n",
        "            print(\"Invalid input. Please enter a number.\")\n",
        "\n",
        "    # Convert heights to centimeters using a nested loop\n",
        "    heights_in_cm = []\n",
        "    for height in heights_in_inches:\n",
        "        for _ in [0]:  # Dummy loop to demonstrate nesting\n",
        "            cm = convert_inches_to_cm(height)\n",
        "            heights_in_cm.append(round(cm, 2))\n",
        "\n",
        "    # Display results\n",
        "    print(\"Heights in inches:\", heights_in_inches)\n",
        "    print(\"Heights in centimeters:\", heights_in_cm)\n",
        "\n",
        "if __name__ == \"__main__\":\n",
        "    main_interactive_loop()\n"
      ],
      "metadata": {
        "id": "oUn0A6Z4FrOM",
        "colab": {
          "base_uri": "https://localhost:8080/"
        },
        "outputId": "113a7d3d-2794-4fc5-b3bc-fcaff24830d9"
      },
      "execution_count": 1,
      "outputs": [
        {
          "output_type": "stream",
          "name": "stdout",
          "text": [
            "Enter height in inches (or 'done' to finish): 105\n",
            "Enter height in inches (or 'done' to finish): 110\n",
            "Enter height in inches (or 'done' to finish): 115\n",
            "Enter height in inches (or 'done' to finish): 120\n",
            "Enter height in inches (or 'done' to finish): done\n",
            "Heights in inches: [105.0, 110.0, 115.0, 120.0]\n",
            "Heights in centimeters: [266.7, 279.4, 292.1, 304.8]\n"
          ]
        }
      ]
    },
    {
      "cell_type": "code",
      "source": [
        "def convert_inches_to_cm(inches):\n",
        "    \"\"\"\n",
        "    Convert inches to centimeters.\n",
        "    \"\"\"\n",
        "    return inches * 2.54\n",
        "\n",
        "def main_list_comprehension():\n",
        "    # Read heights into a list\n",
        "    heights_in_inches = []\n",
        "    while True:\n",
        "        try:\n",
        "            height = input(\"Enter height in inches (or 'done' to finish): \")\n",
        "            if height.lower() == 'done':\n",
        "                break\n",
        "            height = float(height)\n",
        "            heights_in_inches.append(height)\n",
        "        except ValueError:\n",
        "            print(\"Invalid input. Please enter a number.\")\n",
        "\n",
        "    # Convert heights to centimeters using list comprehension\n",
        "    heights_in_cm = [round(convert_inches_to_cm(height), 2) for height in heights_in_inches]\n",
        "\n",
        "    # Display results\n",
        "    print(\"Heights in inches:\", heights_in_inches)\n",
        "    print(\"Heights in centimeters:\", heights_in_cm)\n",
        "\n",
        "if __name__ == \"__main__\":\n",
        "    main_list_comprehension()\n"
      ],
      "metadata": {
        "id": "8V6gdP4mG8gS",
        "colab": {
          "base_uri": "https://localhost:8080/"
        },
        "outputId": "26cc5fe2-922e-4d96-9e3b-3075ae338ba8"
      },
      "execution_count": 2,
      "outputs": [
        {
          "output_type": "stream",
          "name": "stdout",
          "text": [
            "Enter height in inches (or 'done' to finish): 150\n",
            "Enter height in inches (or 'done' to finish): 155\n",
            "Enter height in inches (or 'done' to finish): 160\n",
            "Enter height in inches (or 'done' to finish): 165\n",
            "Enter height in inches (or 'done' to finish): done\n",
            "Heights in inches: [150.0, 155.0, 160.0, 165.0]\n",
            "Heights in centimeters: [381.0, 393.7, 406.4, 419.1]\n"
          ]
        }
      ]
    },
    {
      "cell_type": "code",
      "source": [],
      "metadata": {
        "id": "Vc2xMay_L0t9"
      },
      "execution_count": null,
      "outputs": []
    }
  ]
}