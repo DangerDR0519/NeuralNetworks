{
  "nbformat": 4,
  "nbformat_minor": 0,
  "metadata": {
    "colab": {
      "provenance": [],
      "authorship_tag": "ABX9TyOtwQ0iCUOvf2ayNTwQrbn4",
      "include_colab_link": true
    },
    "kernelspec": {
      "name": "python3",
      "display_name": "Python 3"
    },
    "language_info": {
      "name": "python"
    }
  },
  "cells": [
    {
      "cell_type": "markdown",
      "metadata": {
        "id": "view-in-github",
        "colab_type": "text"
      },
      "source": [
        "<a href=\"https://colab.research.google.com/github/DangerDR0519/NeuralNetworks/blob/main/ICP-2.ipynb\" target=\"_parent\"><img src=\"https://colab.research.google.com/assets/colab-badge.svg\" alt=\"Open In Colab\"/></a>"
      ]
    },
    {
      "cell_type": "code",
      "execution_count": 16,
      "metadata": {
        "colab": {
          "base_uri": "https://localhost:8080/"
        },
        "id": "R7svCicqMNSS",
        "outputId": "fabe22d1-287c-422a-ecdb-cceca139c816"
      },
      "outputs": [
        {
          "output_type": "stream",
          "name": "stdout",
          "text": [
            "Name: Durga, Family: Rao, Salary: 50000, Department: HR\n",
            "Name: sri, Family: kanth, Salary: 60000, Department: IT\n",
            "Name: sai, Family: teja, Salary: 70000, Department: Finance, Benefits: Health Insurance\n",
            "Name: anji, Family: babu, Salary: 80000, Department: IT, Benefits: Retirement Plan\n",
            "Average Salary: 65000.0\n",
            "Total Number of Employees: 4\n"
          ]
        }
      ],
      "source": [
        "class Employee:\n",
        "    # Class variable to count the number of Employees\n",
        "    employee_count = 0\n",
        "\n",
        "    def __init__(self, name, family, salary, department):\n",
        "        # Instance variables\n",
        "        self.name = name\n",
        "        self.family = family\n",
        "        self.salary = salary\n",
        "        self.department = department\n",
        "\n",
        "        # Increment the employee count\n",
        "        Employee.employee_count += 1\n",
        "\n",
        "    @classmethod\n",
        "    def average_salary(cls, employee_list):\n",
        "        # Calculate average salary from a list of employees\n",
        "        total_salary = sum(emp.salary for emp in employee_list)\n",
        "        return total_salary / len(employee_list) if employee_list else 0\n",
        "\n",
        "    @classmethod\n",
        "    def get_employee_count(cls):\n",
        "        # Return the number of employees\n",
        "        return cls.employee_count\n",
        "\n",
        "    def display_info(self):\n",
        "        # Display the information of the employee\n",
        "        return f\"Name: {self.name}, Family: {self.family}, Salary: {self.salary}, Department: {self.department}\"\n",
        "\n",
        "# FulltimeEmployee class inherits from Employee\n",
        "class FulltimeEmployee(Employee):\n",
        "    def __init__(self, name, family, salary, department, benefits):\n",
        "        # Initialize the base class\n",
        "        super().__init__(name, family, salary, department)\n",
        "        # Additional attribute for full-time employees\n",
        "        self.benefits = benefits\n",
        "\n",
        "    def display_info(self):\n",
        "        # Display the information of the full-time employee\n",
        "        base_info = super().display_info()\n",
        "        return f\"{base_info}, Benefits: {self.benefits}\"\n",
        "\n",
        "# Create instances of Employee and FulltimeEmployee\n",
        "emp1 = Employee(\"Durga\", \"Rao\", 50000, \"HR\")\n",
        "emp2 = Employee(\"sri\", \"kanth\", 60000, \"IT\")\n",
        "ft_emp1 = FulltimeEmployee(\"sai\", \"teja\", 70000, \"Finance\", \"Health Insurance\")\n",
        "ft_emp2 = FulltimeEmployee(\"anji\", \"babu\", 80000, \"IT\", \"Retirement Plan\")\n",
        "\n",
        "# List of employees for average salary calculation\n",
        "employee_list = [emp1, emp2, ft_emp1, ft_emp2]\n",
        "\n",
        "# Display employee information\n",
        "print(emp1.display_info())\n",
        "print(emp2.display_info())\n",
        "print(ft_emp1.display_info())\n",
        "print(ft_emp2.display_info())\n",
        "\n",
        "# Display average salary\n",
        "print(\"Average Salary:\", Employee.average_salary(employee_list))\n",
        "\n",
        "# Display total number of employees\n",
        "print(\"Total Number of Employees:\", Employee.get_employee_count())\n"
      ]
    },
    {
      "cell_type": "code",
      "source": [],
      "metadata": {
        "id": "bNZkEcKpMU-O"
      },
      "execution_count": 14,
      "outputs": []
    },
    {
      "cell_type": "code",
      "source": [
        "\n"
      ],
      "metadata": {
        "id": "gLiw-_sjMbmy"
      },
      "execution_count": 14,
      "outputs": []
    },
    {
      "cell_type": "code",
      "source": [
        "import numpy as np\n",
        "\n",
        "# Step 1: Create a random vector of size 20 with floats in the range 1-20\n",
        "vector = np.random.uniform(1, 20, 20)\n",
        "\n",
        "# Step 2: Reshape the vector to a 4x5 array\n",
        "matrix = vector.reshape(4, 5)\n",
        "\n",
        "# Step 3: Replace the maximum value in each row with 0 (axis=1)\n",
        "# Find the index of the maximum values in each row\n",
        "max_indices = np.argmax(matrix, axis=1)\n",
        "\n",
        "# Use advanced indexing to replace the maximum values with 0\n",
        "matrix[np.arange(matrix.shape[0]), max_indices] = 0\n",
        "\n",
        "# Output the matrix\n",
        "print(\"Matrix after replacing max values with 0:\")\n",
        "print(matrix)\n"
      ],
      "metadata": {
        "colab": {
          "base_uri": "https://localhost:8080/"
        },
        "id": "2pXJxR1jMeW5",
        "outputId": "4c558e59-b217-4cd4-fe10-2beb5aa09b55"
      },
      "execution_count": 8,
      "outputs": [
        {
          "output_type": "stream",
          "name": "stdout",
          "text": [
            "Matrix after replacing max values with 0:\n",
            "[[ 2.85195292 14.06382485  8.21948926  0.          4.49984022]\n",
            " [12.3630968  14.76851791  3.18145073 10.23349653  0.        ]\n",
            " [ 6.39046861 14.08268853  0.         17.15711728  9.89809466]\n",
            " [15.24933971  4.70601002  0.         10.29456839  5.09476999]]\n"
          ]
        }
      ]
    },
    {
      "cell_type": "code",
      "source": [],
      "metadata": {
        "id": "UHw9SjyqO-S6"
      },
      "execution_count": 15,
      "outputs": []
    },
    {
      "cell_type": "code",
      "source": [],
      "metadata": {
        "id": "3quON5prj9be"
      },
      "execution_count": null,
      "outputs": []
    }
  ]
}